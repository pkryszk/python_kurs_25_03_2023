{
 "cells": [
  {
   "cell_type": "markdown",
   "id": "2e809d85",
   "metadata": {},
   "source": [
    "# dir, help"
   ]
  },
  {
   "cell_type": "code",
   "execution_count": 1,
   "id": "e0e50210",
   "metadata": {},
   "outputs": [
    {
     "data": {
      "text/plain": [
       "['In',\n",
       " 'Out',\n",
       " '_',\n",
       " '__',\n",
       " '___',\n",
       " '__builtin__',\n",
       " '__builtins__',\n",
       " '__doc__',\n",
       " '__loader__',\n",
       " '__name__',\n",
       " '__package__',\n",
       " '__spec__',\n",
       " '_dh',\n",
       " '_i',\n",
       " '_i1',\n",
       " '_ih',\n",
       " '_ii',\n",
       " '_iii',\n",
       " '_oh',\n",
       " 'autopep8',\n",
       " 'exit',\n",
       " 'get_ipython',\n",
       " 'json',\n",
       " 'open',\n",
       " 'quit',\n",
       " 'yapf_reformat']"
      ]
     },
     "execution_count": 1,
     "metadata": {},
     "output_type": "execute_result"
    }
   ],
   "source": [
    "dir()"
   ]
  },
  {
   "cell_type": "code",
   "execution_count": 2,
   "id": "948564a2",
   "metadata": {},
   "outputs": [],
   "source": [
    "x = [1, 2, 3]"
   ]
  },
  {
   "cell_type": "code",
   "execution_count": 3,
   "id": "b77c873b",
   "metadata": {},
   "outputs": [
    {
     "data": {
      "text/plain": [
       "['__add__',\n",
       " '__class__',\n",
       " '__class_getitem__',\n",
       " '__contains__',\n",
       " '__delattr__',\n",
       " '__delitem__',\n",
       " '__dir__',\n",
       " '__doc__',\n",
       " '__eq__',\n",
       " '__format__',\n",
       " '__ge__',\n",
       " '__getattribute__',\n",
       " '__getitem__',\n",
       " '__gt__',\n",
       " '__hash__',\n",
       " '__iadd__',\n",
       " '__imul__',\n",
       " '__init__',\n",
       " '__init_subclass__',\n",
       " '__iter__',\n",
       " '__le__',\n",
       " '__len__',\n",
       " '__lt__',\n",
       " '__mul__',\n",
       " '__ne__',\n",
       " '__new__',\n",
       " '__reduce__',\n",
       " '__reduce_ex__',\n",
       " '__repr__',\n",
       " '__reversed__',\n",
       " '__rmul__',\n",
       " '__setattr__',\n",
       " '__setitem__',\n",
       " '__sizeof__',\n",
       " '__str__',\n",
       " '__subclasshook__',\n",
       " 'append',\n",
       " 'clear',\n",
       " 'copy',\n",
       " 'count',\n",
       " 'extend',\n",
       " 'index',\n",
       " 'insert',\n",
       " 'pop',\n",
       " 'remove',\n",
       " 'reverse',\n",
       " 'sort']"
      ]
     },
     "execution_count": 3,
     "metadata": {},
     "output_type": "execute_result"
    }
   ],
   "source": [
    "dir(x)"
   ]
  },
  {
   "cell_type": "code",
   "execution_count": 4,
   "id": "0e2c0f51",
   "metadata": {},
   "outputs": [
    {
     "name": "stdout",
     "output_type": "stream",
     "text": [
      "Help on built-in function extend:\n",
      "\n",
      "extend(iterable, /) method of builtins.list instance\n",
      "    Extend list by appending elements from the iterable.\n",
      "\n"
     ]
    }
   ],
   "source": [
    "help(x.extend)"
   ]
  },
  {
   "cell_type": "code",
   "execution_count": 5,
   "id": "f20c3218",
   "metadata": {},
   "outputs": [],
   "source": [
    "x.extend([3, 4, 5])"
   ]
  },
  {
   "cell_type": "code",
   "execution_count": 6,
   "id": "207a0f95",
   "metadata": {},
   "outputs": [
    {
     "data": {
      "text/plain": [
       "[1, 2, 3, 3, 4, 5]"
      ]
     },
     "execution_count": 6,
     "metadata": {},
     "output_type": "execute_result"
    }
   ],
   "source": [
    "x"
   ]
  },
  {
   "cell_type": "code",
   "execution_count": 7,
   "id": "e5107f83",
   "metadata": {},
   "outputs": [],
   "source": [
    "x.extend(\"123\")"
   ]
  },
  {
   "cell_type": "code",
   "execution_count": 8,
   "id": "95ee2d3e",
   "metadata": {},
   "outputs": [
    {
     "data": {
      "text/plain": [
       "[1, 2, 3, 3, 4, 5, '1', '2', '3']"
      ]
     },
     "execution_count": 8,
     "metadata": {},
     "output_type": "execute_result"
    }
   ],
   "source": [
    "x"
   ]
  },
  {
   "cell_type": "markdown",
   "id": "bb3cfc89",
   "metadata": {},
   "source": [
    "# słowa kluczowe"
   ]
  },
  {
   "cell_type": "code",
   "execution_count": 9,
   "id": "735f56e2",
   "metadata": {},
   "outputs": [
    {
     "ename": "SyntaxError",
     "evalue": "invalid syntax (479666131.py, line 1)",
     "output_type": "error",
     "traceback": [
      "\u001b[0;36m  Cell \u001b[0;32mIn [9], line 1\u001b[0;36m\u001b[0m\n\u001b[0;31m    def = 1\u001b[0m\n\u001b[0m        ^\u001b[0m\n\u001b[0;31mSyntaxError\u001b[0m\u001b[0;31m:\u001b[0m invalid syntax\n"
     ]
    }
   ],
   "source": [
    "def = 1  "
   ]
  },
  {
   "cell_type": "code",
   "execution_count": null,
   "id": "64646cc0",
   "metadata": {},
   "outputs": [],
   "source": [
    "# print = 1 "
   ]
  },
  {
   "cell_type": "code",
   "execution_count": null,
   "id": "f9313d9e",
   "metadata": {},
   "outputs": [],
   "source": [
    "print(10)"
   ]
  },
  {
   "cell_type": "code",
   "execution_count": null,
   "id": "050844c0",
   "metadata": {},
   "outputs": [],
   "source": [
    "help(\"keywords\")"
   ]
  },
  {
   "cell_type": "code",
   "execution_count": null,
   "id": "f6e2bea3",
   "metadata": {},
   "outputs": [],
   "source": [
    "assert 1 == 2"
   ]
  },
  {
   "cell_type": "code",
   "execution_count": null,
   "id": "1f2966bf",
   "metadata": {},
   "outputs": [],
   "source": [
    "%%writefile xxxx.py\n",
    "\n",
    "assert 1 == 2"
   ]
  },
  {
   "cell_type": "code",
   "execution_count": null,
   "id": "79a239b4",
   "metadata": {},
   "outputs": [],
   "source": [
    "!python3 -O xxxx.py"
   ]
  },
  {
   "cell_type": "markdown",
   "id": "2c770cc5",
   "metadata": {},
   "source": [
    "# funkcje wbudowane"
   ]
  },
  {
   "cell_type": "code",
   "execution_count": null,
   "id": "f238a05c",
   "metadata": {},
   "outputs": [],
   "source": [
    "sum([1, 2, 3])"
   ]
  },
  {
   "cell_type": "markdown",
   "id": "62ca49d4",
   "metadata": {},
   "source": [
    "# przestrzenie \n",
    "## domknięcie"
   ]
  },
  {
   "cell_type": "code",
   "execution_count": null,
   "id": "6c3f9bd1",
   "metadata": {},
   "outputs": [],
   "source": [
    "def incr_fact(step=1):\n",
    "    \n",
    "    def func(a):\n",
    "        return a + step\n",
    "    \n",
    "    \n",
    "    return func\n",
    "\n",
    "\n",
    "incr2 = incr_fact(2)\n",
    "incr20 = incr_fact(20)\n",
    "\n",
    "incr2(4)\n",
    "incr20(20)"
   ]
  },
  {
   "cell_type": "markdown",
   "id": "bb0915c8",
   "metadata": {},
   "source": [
    "## dekorator"
   ]
  },
  {
   "cell_type": "code",
   "execution_count": 31,
   "id": "3d9a8487",
   "metadata": {},
   "outputs": [
    {
     "name": "stdout",
     "output_type": "stream",
     "text": [
      "Coś przed oryginalną funckja\n",
      "Coś po oryginalnej funkcji\n"
     ]
    },
    {
     "data": {
      "text/plain": [
       "'Hello Rafał'"
      ]
     },
     "execution_count": 31,
     "metadata": {},
     "output_type": "execute_result"
    }
   ],
   "source": [
    "from functools import wraps\n",
    "\n",
    "def dekorator(func):\n",
    "\n",
    "    @wraps(func)\n",
    "    def opakowanie(*args, **kwargs):\n",
    "        print(\"Coś przed oryginalną funckja\")\n",
    "        \n",
    "        r = func(*args, **kwargs)\n",
    "        \n",
    "        print(\"Coś po oryginalnej funkcji\")\n",
    "        \n",
    "        return r\n",
    "    \n",
    "#     opakowanie.__name__ = func.__name__\n",
    "#     opakowanie.__doc__ = func.__doc__\n",
    "    \n",
    "    return opakowanie\n",
    "\n",
    "\n",
    "def timeit(): \n",
    "    \n",
    "    ...\n",
    "\n",
    "\n",
    "@timeit\n",
    "def hello_world(): \n",
    "    return \"Hello World\"\n",
    "\n",
    "\n",
    "@dekorator\n",
    "def hello(name):\n",
    "    \"\"\"Dokumentacja naszej funkcji\"\"\"\n",
    "    return f\"Hello {name}\"\n",
    "\n",
    "# hello_world = dekorator(hello_world)\n",
    "# hello_world()\n",
    "\n",
    "# hello = dekorator(hello)\n",
    "\n",
    "hello(\"Rafał\")"
   ]
  },
  {
   "cell_type": "code",
   "execution_count": 32,
   "id": "ac843e08",
   "metadata": {},
   "outputs": [
    {
     "name": "stdout",
     "output_type": "stream",
     "text": [
      "Help on function hello in module __main__:\n",
      "\n",
      "hello(name)\n",
      "    Dokumentacja naszej funkcji\n",
      "\n"
     ]
    }
   ],
   "source": [
    "help(hello)"
   ]
  },
  {
   "cell_type": "code",
   "execution_count": 33,
   "id": "048854c4",
   "metadata": {},
   "outputs": [
    {
     "data": {
      "text/plain": [
       "'hello'"
      ]
     },
     "execution_count": 33,
     "metadata": {},
     "output_type": "execute_result"
    }
   ],
   "source": [
    "hello.__name__"
   ]
  },
  {
   "cell_type": "code",
   "execution_count": 34,
   "id": "b74803fc",
   "metadata": {},
   "outputs": [],
   "source": [
    "import time"
   ]
  },
  {
   "cell_type": "code",
   "execution_count": 35,
   "id": "f2d0d05b",
   "metadata": {},
   "outputs": [],
   "source": [
    "t1 = time.time()"
   ]
  },
  {
   "cell_type": "code",
   "execution_count": 38,
   "id": "b7b71e9f",
   "metadata": {},
   "outputs": [
    {
     "data": {
      "text/plain": [
       "27.558090925216675"
      ]
     },
     "execution_count": 38,
     "metadata": {},
     "output_type": "execute_result"
    }
   ],
   "source": [
    "time.time() - t1"
   ]
  },
  {
   "cell_type": "code",
   "execution_count": null,
   "id": "2d2f403d",
   "metadata": {},
   "outputs": [],
   "source": []
  }
 ],
 "metadata": {
  "kernelspec": {
   "display_name": "Python 3 (ipykernel)",
   "language": "python",
   "name": "python3"
  },
  "language_info": {
   "codemirror_mode": {
    "name": "ipython",
    "version": 3
   },
   "file_extension": ".py",
   "mimetype": "text/x-python",
   "name": "python",
   "nbconvert_exporter": "python",
   "pygments_lexer": "ipython3",
   "version": "3.10.7"
  },
  "toc": {
   "base_numbering": 1,
   "nav_menu": {},
   "number_sections": true,
   "sideBar": true,
   "skip_h1_title": false,
   "title_cell": "Table of Contents",
   "title_sidebar": "Contents",
   "toc_cell": false,
   "toc_position": {},
   "toc_section_display": true,
   "toc_window_display": false
  }
 },
 "nbformat": 4,
 "nbformat_minor": 5
}
